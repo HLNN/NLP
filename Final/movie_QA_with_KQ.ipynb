{
 "cells": [
  {
   "cell_type": "code",
   "execution_count": null,
   "metadata": {
    "collapsed": true
   },
   "outputs": [],
   "source": [
    "# Clone repo\n",
    "!git clone https://github.com//HLNN/NLP.git\n",
    "!mv NLP/Final/* ."
   ]
  },
  {
   "cell_type": "code",
   "execution_count": null,
   "metadata": {},
   "outputs": [],
   "source": [
    "#Download and start neo4j\n",
    "!wget https://neo4j.com/artifact.php?name=neo4j-community-3.5.8-unix.tar.gz -O neo4j.tar.gz\n",
    "!mkdir neo4j\n",
    "!tar -xf neo4j.tar.gz\n",
    "!mv neo4j-community-3.5.8/* neo4j\n",
    "!sed -i '/#dbms.security.auth_enabled/s/^#//g' neo4j/conf/neo4j.conf\n",
    "\n",
    "!neo4j/bin/neo4j start"
   ]
  },
  {
   "cell_type": "code",
   "execution_count": null,
   "metadata": {},
   "outputs": [],
   "source": [
    "!pip install -r requirements.txt"
   ]
  },
  {
   "cell_type": "code",
   "execution_count": null,
   "metadata": {},
   "outputs": [],
   "source": [
    "import csv2neo4j"
   ]
  },
  {
   "cell_type": "code",
   "execution_count": null,
   "metadata": {},
   "outputs": [],
   "source": [
    "from preprocess_data import Question\n",
    "\n",
    "while True:\n",
    "    print(question.question_process(input()))\n",
    "    print()\n"
   ]
  }
 ],
 "metadata": {
  "kernelspec": {
   "display_name": "Python 2",
   "language": "python",
   "name": "python2"
  },
  "language_info": {
   "codemirror_mode": {
    "name": "ipython",
    "version": 2
   },
   "file_extension": ".py",
   "mimetype": "text/x-python",
   "name": "python",
   "nbconvert_exporter": "python",
   "pygments_lexer": "ipython2",
   "version": "2.7.6"
  }
 },
 "nbformat": 4,
 "nbformat_minor": 0
}
