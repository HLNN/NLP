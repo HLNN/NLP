{
 "cells": [
  {
   "cell_type": "code",
   "execution_count": null,
   "metadata": {
    "collapsed": true
   },
   "outputs": [],
   "source": [
    "# Clone repo\n",
    "!git clone https://github.com//HLNN/NLP.git\n",
    "!mv NLP/Final/* ."
   ]
  },
  {
   "cell_type": "code",
   "execution_count": null,
   "metadata": {},
   "outputs": [],
   "source": [
    "#Download and start neo4j\n",
    "!wget https://neo4j.com/artifact.php?name=neo4j-community-3.5.8-unix.tar.gz -O neo4j.tar.gz\n",
    "!mkdir neo4j\n",
    "!tar -xf neo4j.tar.gz\n",
    "!mv neo4j-community-3.5.8/* neo4j\n",
    "!sed -i '/#dbms.security.auth_enabled/s/^#//g' neo4j/conf/neo4j.conf\n",
    "\n",
    "!neo4j/bin/neo4j start"
   ]
  },
  {
   "cell_type": "code",
   "execution_count": null,
   "metadata": {},
   "outputs": [],
   "source": [
    "# Install requirement\n",
    "!pip install -r requirements.txt"
   ]
  },
  {
   "cell_type": "code",
   "execution_count": null,
   "metadata": {},
   "outputs": [],
   "source": [
    "# There may be a short delay until the Neo4j is ready.\n",
    "# Try again after few second if fault.\n",
    "import csv2neo4j"
   ]
  },
  {
   "cell_type": "code",
   "execution_count": null,
   "metadata": {},
   "outputs": [],
   "source": [
    "from preprocess_data import Question\n",
    "\n",
    "question = Question()"
   ]
  },
  {
   "cell_type": "code",
   "execution_count": null,
   "metadata": {},
   "outputs": [],
   "source": [
    "def question_process_format(q):\n",
    "    print('Question: ', q)\n",
    "    print('*' * 40)\n",
    "    print('Processing detail...')\n",
    "    a = question.question_process(q)\n",
    "    print('*' * 40)\n",
    "    print('Answer: ', a)\n"
   ]
  },
  {
   "cell_type": "code",
   "execution_count": null,
   "metadata": {},
   "outputs": [],
   "source": [
    "question_process_format('卧虎藏龙的评分是多少？')"
   ]
  },
  {
   "cell_type": "code",
   "execution_count": null,
   "metadata": {},
   "outputs": [],
   "source": [
    "question_process_format('无间道是什么类型的电影？')"
   ]
  },
  {
   "cell_type": "code",
   "execution_count": null,
   "metadata": {},
   "outputs": [],
   "source": [
    "question_process_format('英雄主要讲了什么故事？')"
   ]
  },
  {
   "cell_type": "code",
   "execution_count": null,
   "metadata": {},
   "outputs": [],
   "source": [
    "question_process_format('霸王别姬是哪些人演的？')"
   ]
  },
  {
   "cell_type": "code",
   "execution_count": null,
   "metadata": {},
   "outputs": [],
   "source": [
    "question_process_format('介绍一下张国荣？')"
   ]
  },
  {
   "cell_type": "code",
   "execution_count": null,
   "metadata": {},
   "outputs": [],
   "source": [
    "question_process_format('成龙演过多少部电影？')"
   ]
  },
  {
   "cell_type": "code",
   "execution_count": null,
   "metadata": {},
   "outputs": [],
   "source": [
    "question_process_format('成龙和李连杰合作的电影有哪些？')"
   ]
  },
  {
   "cell_type": "code",
   "execution_count": null,
   "metadata": {},
   "outputs": [],
   "source": [
    "# Try YOUR question now\n",
    "while True:\n",
    "    question_process_format(input())\n",
    "    print()\n"
   ]
  }
 ],
 "metadata": {
  "kernelspec": {
   "display_name": "Python 2",
   "language": "python",
   "name": "python2"
  },
  "language_info": {
   "codemirror_mode": {
    "name": "ipython",
    "version": 2
   },
   "file_extension": ".py",
   "mimetype": "text/x-python",
   "name": "python",
   "nbconvert_exporter": "python",
   "pygments_lexer": "ipython2",
   "version": "2.7.6"
  }
 },
 "nbformat": 4,
 "nbformat_minor": 0
}
